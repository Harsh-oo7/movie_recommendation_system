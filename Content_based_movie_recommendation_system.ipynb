{
  "nbformat": 4,
  "nbformat_minor": 0,
  "metadata": {
    "kernelspec": {
      "display_name": "Python 3",
      "language": "python",
      "name": "python3"
    },
    "language_info": {
      "codemirror_mode": {
        "name": "ipython",
        "version": 3
      },
      "file_extension": ".py",
      "mimetype": "text/x-python",
      "name": "python",
      "nbconvert_exporter": "python",
      "pygments_lexer": "ipython3",
      "version": "3.6.7"
    },
    "colab": {
      "name": "Content_based_movie_recommendation_system.ipynb",
      "provenance": [],
      "collapsed_sections": []
    }
  },
  "cells": [
    {
      "cell_type": "markdown",
      "metadata": {
        "id": "JFdvAfxcyK0W"
      },
      "source": [
        "\n",
        "\n",
        "Mostly three ways to build a recommendation engine:\n",
        "\n",
        "1. Popularity based recommendation engine\n",
        "2. Content based recommendation engine\n",
        "3. Collaborative filtering based recommendation engine\n",
        "\n",
        "\n",
        "\n",
        "### Popularity based recommendation engine:\n",
        "\n",
        " The trending list you see in YouTube or Netflix is based on this algorithm. It keeps a track of view counts for each movie/video and then lists movies based on views in descending order(highest view count to lowest view count). \n",
        "\n",
        "\n",
        "### Content based recommendation engine:\n",
        "\n",
        "This type of recommendation systems, takes in a movie that a user currently likes as input. Then it analyzes the contents (storyline, genre, cast, director etc.) of the movie to find out other movies which have similar content. Then it ranks similar movies according to their similarity scores and recommends the most relevant movies to the user.\n",
        "\n",
        "### Collaborative filtering based recommendation engine:\n",
        "\n",
        "This algorithm at first tries to find similar users based on their activities and preferences (for example, both the users watch same type of movies or movies directed by the same director). Now, between these users(say, A and B) if user A has seen a movie that user B has not seen yet, then that movie gets recommended to user B and vice-versa. In other words, the recommendations get filtered based on the collaboration between similar user’s preferences (thus, the name “Collaborative Filtering”). One typical application of this algorithm can be seen in the Amazon e-commerce platform, where you get to see the “Customers who viewed this item also viewed” and “Customers who bought this item also bought” list.\n",
        "\n",
        "\n",
        "\n",
        "Look at the following picture to get a better intuition over content based and collaborative filtering based recommendation systems-\n",
        "\n",
        "<img src=\"https://editor.analyticsvidhya.com/uploads/88506recommendation%20system.png\">\n",
        "\n",
        "\n",
        "In this article, we are going to implement a Content based recommendation system using the scikit-learn library.\n",
        "\n",
        "\n"
      ]
    },
    {
      "cell_type": "code",
      "metadata": {
        "id": "Q85G5o7ayK0i"
      },
      "source": [
        "import pandas as pd\n",
        "import numpy as np\n",
        "from sklearn.feature_extraction.text import CountVectorizer\n",
        "from sklearn.metrics.pairwise import cosine_similarity\n",
        "\n",
        "df = pd.read_csv(\"movie_dataset.csv\")"
      ],
      "execution_count": 20,
      "outputs": []
    },
    {
      "cell_type": "markdown",
      "metadata": {
        "id": "djeB-kamyK0j"
      },
      "source": [
        "If you visualize the dataset, you will see that it has many extra info about a movie. We don’t need all of them. So, we choose keywords, cast, genres and director column to use as our feature set."
      ]
    },
    {
      "cell_type": "code",
      "metadata": {
        "id": "XRs7NDVQyK0j"
      },
      "source": [
        "features = ['keywords','cast','genres','director']"
      ],
      "execution_count": 21,
      "outputs": []
    },
    {
      "cell_type": "markdown",
      "metadata": {
        "id": "ejFcapNEyK0j"
      },
      "source": [
        "Our next task is to create a function for combining the values of these columns into a single string."
      ]
    },
    {
      "cell_type": "code",
      "metadata": {
        "id": "fA5bdJRyyK0j"
      },
      "source": [
        "def combine_features(row):\n",
        "    return row['keywords']+\" \"+row['cast']+\" \"+row['genres']+\" \"+row['director']"
      ],
      "execution_count": 22,
      "outputs": []
    },
    {
      "cell_type": "markdown",
      "metadata": {
        "id": "qz_tWteRyK0j"
      },
      "source": [
        "Now, we need to call this function over each row of our dataframe. But, before doing that, we need to clean and preprocess the data for our use. We will fill all the NaN values with blank string in the dataframe."
      ]
    },
    {
      "cell_type": "code",
      "metadata": {
        "id": "RABldRLAyK0k"
      },
      "source": [
        "for feature in features:\n",
        "    df[feature] = df[feature].fillna('') #filling all NaNs with blank string\n",
        "\n",
        "df[\"combined_features\"] = df.apply(combine_features,axis=1) #applying combined_features() method over each rows of dataframe and storing the combined string in \"combined_features\" column"
      ],
      "execution_count": 23,
      "outputs": []
    },
    {
      "cell_type": "markdown",
      "metadata": {
        "id": "SB1PNvGtyK0k"
      },
      "source": [
        "Now that we have obtained the combined strings, we can now feed these strings to a CountVectorizer() object for getting the count matrix."
      ]
    },
    {
      "cell_type": "code",
      "metadata": {
        "id": "P9OrxH29yK0k"
      },
      "source": [
        "cv = CountVectorizer() #creating new CountVectorizer() object\n",
        "count_matrix = cv.fit_transform(df[\"combined_features\"]) #feeding combined strings(movie contents) to CountVectorizer() object"
      ],
      "execution_count": 24,
      "outputs": []
    },
    {
      "cell_type": "markdown",
      "metadata": {
        "id": "lfptF4H2yK0k"
      },
      "source": [
        " Now, we need to obtain the cosine similarity matrix from the count matrix."
      ]
    },
    {
      "cell_type": "code",
      "metadata": {
        "id": "Sif29nyKyK0l"
      },
      "source": [
        "cosine_sim = cosine_similarity(count_matrix)"
      ],
      "execution_count": 25,
      "outputs": []
    },
    {
      "cell_type": "markdown",
      "metadata": {
        "id": "pSwll4hdyK0l"
      },
      "source": [
        "Now, we will define two helper functions to get movie title from movie index and vice-versa."
      ]
    },
    {
      "cell_type": "code",
      "metadata": {
        "id": "j9pos_cuyK0l"
      },
      "source": [
        "def get_title_from_index(index):\n",
        "    return df[df.index == index][\"title\"].values[0]\n",
        "def get_index_from_title(title):\n",
        "    return df[df.title == title][\"index\"].values[0]"
      ],
      "execution_count": 26,
      "outputs": []
    },
    {
      "cell_type": "markdown",
      "metadata": {
        "id": "iP1vHjgLyK0l"
      },
      "source": [
        "Our next step is to get the title of the movie that the user currently likes. Then we will find the index of that movie. After that, we will access the row corresponding to this movie in the similarity matrix. Thus, we will get the similarity scores of all other movies from the current movie. Then we will enumerate through all the similarity scores of that movie to make a tuple of movie index and similarity score. "
      ]
    },
    {
      "cell_type": "code",
      "metadata": {
        "id": "s-xX9M1uyK0l"
      },
      "source": [
        "movie_user_likes = \"Interstellar\"\n",
        "movie_index = get_index_from_title(movie_user_likes)\n",
        "similar_movies = list(enumerate(cosine_sim[movie_index])) #accessing the row corresponding to given movie to find all the similarity scores for that movie and then enumerating over it"
      ],
      "execution_count": 27,
      "outputs": []
    },
    {
      "cell_type": "markdown",
      "metadata": {
        "id": "9F4jGEw1yK0m"
      },
      "source": [
        "\n",
        " We will sort the list `similar_movies` according to similarity scores in descending order. Since the most similar movie to a given movie will be itself, we will discard the first element after sorting the movies."
      ]
    },
    {
      "cell_type": "code",
      "metadata": {
        "id": "lrEDR65JyK0m"
      },
      "source": [
        "sorted_similar_movies = sorted(similar_movies,key=lambda x:x[1],reverse=True)[1:]"
      ],
      "execution_count": 28,
      "outputs": []
    },
    {
      "cell_type": "markdown",
      "metadata": {
        "id": "qlvy10JAyK0m"
      },
      "source": [
        "Now, we will run a loop to print first 5 entries from `sorted_similar_movies` list."
      ]
    },
    {
      "cell_type": "code",
      "metadata": {
        "id": "HS3kbUqYyK0n",
        "colab": {
          "base_uri": "https://localhost:8080/"
        },
        "outputId": "f0ef398e-d48f-4fa8-a62f-cad0683e2b88"
      },
      "source": [
        "i=0\n",
        "print(\"Top 5 similar movies to \"+movie_user_likes+\" are:\\n\")\n",
        "for element in sorted_similar_movies:\n",
        "    print(get_title_from_index(element[0]))\n",
        "    i=i+1\n",
        "    if i>5:\n",
        "        break"
      ],
      "execution_count": 29,
      "outputs": [
        {
          "output_type": "stream",
          "text": [
            "Top 5 similar movies to Interstellar are:\n",
            "\n",
            "The Matrix Revolutions\n",
            "Midnight Special\n",
            "The Matrix Reloaded\n",
            "The Martian\n",
            "The Terminator\n",
            "Armageddon\n"
          ],
          "name": "stdout"
        }
      ]
    }
  ]
}